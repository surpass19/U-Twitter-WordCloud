{
 "cells": [
  {
   "cell_type": "code",
   "execution_count": 1,
   "id": "30150597-208d-45fa-97ae-60da47cd8c57",
   "metadata": {},
   "outputs": [],
   "source": [
    "# ライブラリのインポート\n",
    "import tweepy\n",
    "import pandas as pd"
   ]
  },
  {
   "cell_type": "code",
   "execution_count": 3,
   "id": "8491fe70-3fc5-47f1-b2d3-ace440075eee",
   "metadata": {},
   "outputs": [],
   "source": [
    "import json\n",
    "json_open = open('../sercret.json', 'r')\n",
    "json_load = json.load(json_open)"
   ]
  },
  {
   "cell_type": "code",
   "execution_count": 4,
   "id": "2f78082b-bb52-431f-870c-fa8ca9f24447",
   "metadata": {},
   "outputs": [],
   "source": [
    "\n",
    "#認証\n",
    "CK = json_load[\"CK\"]    # Consumer Key\n",
    "CS = json_load[\"CS\"]   # Consumer Secret\n",
    "AT = json_load[\"AT\"]    # Access Token\n",
    "AS = json_load[\"AS\"]    # Accesss Token Secert\n",
    "\n",
    "auth = tweepy.OAuthHandler(CK, CS)\n",
    "auth.set_access_token(AT, AS)"
   ]
  },
  {
   "cell_type": "code",
   "execution_count": 5,
   "id": "dce02a3c-a57e-4da8-8ebb-5f31422581fd",
   "metadata": {},
   "outputs": [
    {
     "name": "stdout",
     "output_type": "stream",
     "text": [
      "----1-----\n",
      "@ranran_aww ジャルジャル面白いですよね！！私もずっとYouTubeのコント見てます😂高校生だったり社会人だったり色々出てきてほんと好きです笑\n",
      "ゲームやってるひとたちが(おきんたMAでかお強いな…)とか思ってるの想像したらめちゃくちゃ面白いですwww\n",
      "----2-----\n",
      "ｼﾞｬﾙｼﾞｬﾙﾊ神😇✨💕ｼﾞｬﾙｼﾞｬﾙ好きﾓ神✨\n",
      "----3-----\n",
      "@psychopathmile 私も他の芸人さんは見ない人なのですが、最近ジャルジャルのコントをYouTubeで漁るくらいにハマってます(*´-`)\n",
      "最高と言ってもらえたのでこれから通報されない限り「おきんたMAでかお」で生きていきます❤️\n",
      "----4-----\n",
      "@ranran_aww セメスさんもお好きなんですか？私は今芸人さんはジャルジャルしか見てないんですけど…笑\n",
      "\n",
      "その名前は笑笑セメスさん最高です笑笑笑\n",
      "----5-----\n",
      "衣装ジャルジャル見てる\n"
     ]
    }
   ],
   "source": [
    "\n",
    "\n",
    "# 取得ツイート数\n",
    "count = 5\n",
    "# 検索ワード\n",
    "search_word = 'ジャルジャル -filter:retweets'\n",
    "\n",
    "\n",
    "# インスタンス作成\n",
    "twitter_api = tweepy.API(auth, wait_on_rate_limit=True, wait_on_rate_limit_notify=True)\n",
    "\n",
    "# ツイート検索結果を大量取得\n",
    "n = 0\n",
    "data = []\n",
    "\n",
    "for result in tweepy.Cursor(twitter_api.search, q=search_word).items(count):\n",
    "    n +=1\n",
    "    print('----{}-----'.format(n))\n",
    "    print(result.text)\n",
    "    data.append(result)"
   ]
  },
  {
   "cell_type": "code",
   "execution_count": 14,
   "id": "072b7f03-0885-4294-9422-93c6d6d7addd",
   "metadata": {},
   "outputs": [
    {
     "data": {
      "text/plain": [
       "'衣装ジャルジャル見てる'"
      ]
     },
     "execution_count": 14,
     "metadata": {},
     "output_type": "execute_result"
    }
   ],
   "source": [
    "result.text"
   ]
  },
  {
   "cell_type": "code",
   "execution_count": 6,
   "id": "91a88713-c727-45ac-ac79-467594a63c44",
   "metadata": {},
   "outputs": [
    {
     "data": {
      "text/plain": [
       "'@ranran_aww ジャルジャル面白いですよね！！私もずっとYouTubeのコント見てます😂高校生だったり社会人だったり色々出てきてほんと好きです笑\\nゲームやってるひとたちが(おきんたMAでかお強いな…)とか思ってるの想像したらめちゃくちゃ面白いですwww'"
      ]
     },
     "execution_count": 6,
     "metadata": {},
     "output_type": "execute_result"
    }
   ],
   "source": [
    "# 最新ツイートの中身を見る\n",
    "data[0].text"
   ]
  },
  {
   "cell_type": "code",
   "execution_count": null,
   "id": "01559562-d9d7-4b47-aef5-1a0fa4c01a56",
   "metadata": {},
   "outputs": [],
   "source": []
  }
 ],
 "metadata": {
  "kernelspec": {
   "display_name": "Python 3.9.5 64-bit ('ukita_main_env': conda)",
   "language": "python",
   "name": "python395jvsc74a57bd0c19bd4dc0949b9af5049c50e337ed6e21b7d6fbec491433b163f7fe7b877fba9"
  },
  "language_info": {
   "codemirror_mode": {
    "name": "ipython",
    "version": 3
   },
   "file_extension": ".py",
   "mimetype": "text/x-python",
   "name": "python",
   "nbconvert_exporter": "python",
   "pygments_lexer": "ipython3",
   "version": "3.9.5"
  }
 },
 "nbformat": 4,
 "nbformat_minor": 5
}
